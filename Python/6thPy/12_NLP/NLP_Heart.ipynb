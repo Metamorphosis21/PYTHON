{
 "cells": [
  {
   "cell_type": "code",
   "execution_count": 1,
   "id": "5922e330",
   "metadata": {},
   "outputs": [
    {
     "name": "stdout",
     "output_type": "stream",
     "text": [
      "Requirement already satisfied: textblob in c:\\users\\payel\\anaconda3\\lib\\site-packages (0.19.0)\n",
      "Requirement already satisfied: nltk>=3.9 in c:\\users\\payel\\anaconda3\\lib\\site-packages (from textblob) (3.9.1)\n",
      "Requirement already satisfied: click in c:\\users\\payel\\anaconda3\\lib\\site-packages (from nltk>=3.9->textblob) (8.0.4)\n",
      "Requirement already satisfied: joblib in c:\\users\\payel\\anaconda3\\lib\\site-packages (from nltk>=3.9->textblob) (1.2.0)\n",
      "Requirement already satisfied: regex>=2021.8.3 in c:\\users\\payel\\anaconda3\\lib\\site-packages (from nltk>=3.9->textblob) (2022.7.9)\n",
      "Requirement already satisfied: tqdm in c:\\users\\payel\\anaconda3\\lib\\site-packages (from nltk>=3.9->textblob) (4.65.0)\n",
      "Requirement already satisfied: colorama in c:\\users\\payel\\anaconda3\\lib\\site-packages (from click->nltk>=3.9->textblob) (0.4.6)\n"
     ]
    }
   ],
   "source": [
    "!pip install textblob\n"
   ]
  },
  {
   "cell_type": "code",
   "execution_count": 2,
   "id": "8da3e8c1",
   "metadata": {},
   "outputs": [
    {
     "name": "stdout",
     "output_type": "stream",
     "text": [
      "<class 'textblob.blob.TextBlob'>\n"
     ]
    }
   ],
   "source": [
    "from textblob import TextBlob\n",
    "text='I was sad. I am happy. I will be elated.'\n",
    "blob=TextBlob(text)\n",
    "print(type(blob)) # type of TextBlob"
   ]
  },
  {
   "cell_type": "code",
   "execution_count": 3,
   "id": "1a26e3ea",
   "metadata": {},
   "outputs": [
    {
     "name": "stdout",
     "output_type": "stream",
     "text": [
      "I was sad. I am happy. I will be elated.\n"
     ]
    }
   ],
   "source": [
    "from textblob import TextBlob\n",
    "text='I was sad. I am happy. I will be elated.'\n",
    "blob=TextBlob(text)\n",
    "print(blob)"
   ]
  },
  {
   "cell_type": "code",
   "execution_count": 4,
   "id": "36d0778c",
   "metadata": {},
   "outputs": [
    {
     "name": "stdout",
     "output_type": "stream",
     "text": [
      "Finished.\n"
     ]
    },
    {
     "name": "stderr",
     "output_type": "stream",
     "text": [
      "[nltk_data] Downloading package brown to\n",
      "[nltk_data]     C:\\Users\\PAYEL\\AppData\\Roaming\\nltk_data...\n",
      "[nltk_data]   Unzipping corpora\\brown.zip.\n",
      "[nltk_data] Downloading package punkt_tab to\n",
      "[nltk_data]     C:\\Users\\PAYEL\\AppData\\Roaming\\nltk_data...\n",
      "[nltk_data]   Unzipping tokenizers\\punkt_tab.zip.\n",
      "[nltk_data] Downloading package wordnet to\n",
      "[nltk_data]     C:\\Users\\PAYEL\\AppData\\Roaming\\nltk_data...\n",
      "[nltk_data]   Package wordnet is already up-to-date!\n",
      "[nltk_data] Downloading package averaged_perceptron_tagger_eng to\n",
      "[nltk_data]     C:\\Users\\PAYEL\\AppData\\Roaming\\nltk_data...\n",
      "[nltk_data]   Unzipping taggers\\averaged_perceptron_tagger_eng.zip.\n",
      "[nltk_data] Downloading package conll2000 to\n",
      "[nltk_data]     C:\\Users\\PAYEL\\AppData\\Roaming\\nltk_data...\n",
      "[nltk_data]   Unzipping corpora\\conll2000.zip.\n",
      "[nltk_data] Downloading package movie_reviews to\n",
      "[nltk_data]     C:\\Users\\PAYEL\\AppData\\Roaming\\nltk_data...\n",
      "[nltk_data]   Unzipping corpora\\movie_reviews.zip.\n"
     ]
    }
   ],
   "source": [
    "!python -m textblob.download_corpora"
   ]
  },
  {
   "cell_type": "code",
   "execution_count": 6,
   "id": "1cd0cb45",
   "metadata": {},
   "outputs": [
    {
     "name": "stderr",
     "output_type": "stream",
     "text": [
      "[nltk_data] Downloading package punkt_tab to\n",
      "[nltk_data]     C:\\Users\\PAYEL\\AppData\\Roaming\\nltk_data...\n",
      "[nltk_data]   Package punkt_tab is already up-to-date!\n"
     ]
    },
    {
     "data": {
      "text/plain": [
       "True"
      ]
     },
     "execution_count": 6,
     "metadata": {},
     "output_type": "execute_result"
    }
   ],
   "source": [
    "import nltk\n",
    "nltk.download('punkt_tab')"
   ]
  },
  {
   "cell_type": "code",
   "execution_count": 7,
   "id": "c476c23c",
   "metadata": {},
   "outputs": [
    {
     "name": "stderr",
     "output_type": "stream",
     "text": [
      "[nltk_data] Downloading package punkt to\n",
      "[nltk_data]     C:\\Users\\PAYEL\\AppData\\Roaming\\nltk_data...\n",
      "[nltk_data]   Package punkt is already up-to-date!\n",
      "[nltk_data] Downloading package wordnet to\n",
      "[nltk_data]     C:\\Users\\PAYEL\\AppData\\Roaming\\nltk_data...\n",
      "[nltk_data]   Package wordnet is already up-to-date!\n",
      "[nltk_data] Downloading package averaged_perceptron_tagger to\n",
      "[nltk_data]     C:\\Users\\PAYEL\\AppData\\Roaming\\nltk_data...\n",
      "[nltk_data]   Package averaged_perceptron_tagger is already up-to-\n",
      "[nltk_data]       date!\n",
      "[nltk_data] Downloading package brown to\n",
      "[nltk_data]     C:\\Users\\PAYEL\\AppData\\Roaming\\nltk_data...\n",
      "[nltk_data]   Package brown is already up-to-date!\n",
      "[nltk_data] Downloading package conll2000 to\n",
      "[nltk_data]     C:\\Users\\PAYEL\\AppData\\Roaming\\nltk_data...\n",
      "[nltk_data]   Package conll2000 is already up-to-date!\n",
      "[nltk_data] Downloading package movie_reviews to\n",
      "[nltk_data]     C:\\Users\\PAYEL\\AppData\\Roaming\\nltk_data...\n",
      "[nltk_data]   Package movie_reviews is already up-to-date!\n",
      "[nltk_data] Downloading package stopwords to\n",
      "[nltk_data]     C:\\Users\\PAYEL\\AppData\\Roaming\\nltk_data...\n",
      "[nltk_data]   Unzipping corpora\\stopwords.zip.\n",
      "[nltk_data] Downloading package omw-1.4 to\n",
      "[nltk_data]     C:\\Users\\PAYEL\\AppData\\Roaming\\nltk_data...\n",
      "[nltk_data]   Package omw-1.4 is already up-to-date!\n",
      "[nltk_data] Downloading package punkt_tab to\n",
      "[nltk_data]     C:\\Users\\PAYEL\\AppData\\Roaming\\nltk_data...\n",
      "[nltk_data]   Package punkt_tab is already up-to-date!\n"
     ]
    },
    {
     "data": {
      "text/plain": [
       "True"
      ]
     },
     "execution_count": 7,
     "metadata": {},
     "output_type": "execute_result"
    }
   ],
   "source": [
    "import nltk\n",
    "nltk.download('punkt')\n",
    "nltk.download('wordnet')\n",
    "nltk.download('averaged_perceptron_tagger')\n",
    "nltk.download('brown')\n",
    "nltk.download('conll2000')\n",
    "nltk.download('movie_reviews')\n",
    "nltk.download('stopwords')\n",
    "nltk.download('omw-1.4')  # Optional but useful\n",
    "# Download the missing 'punkt_tab' data\n",
    "nltk.download('punkt_tab')  # This line is added to resolve the error"
   ]
  },
  {
   "cell_type": "code",
   "execution_count": 8,
   "id": "b9069564",
   "metadata": {},
   "outputs": [
    {
     "name": "stdout",
     "output_type": "stream",
     "text": [
      "['I', 'was', 'sad', 'I', 'am', 'happy', 'I', 'will', 'be', 'elated']\n",
      "<class 'textblob.blob.WordList'>\n"
     ]
    }
   ],
   "source": [
    "from textblob import TextBlob\n",
    "text='I was sad. I am happy. I will be elated.'\n",
    "blob=TextBlob(text)\n",
    "print(blob.words)\n",
    "print(type(blob.words))"
   ]
  },
  {
   "cell_type": "code",
   "execution_count": 9,
   "id": "c260b1ee",
   "metadata": {},
   "outputs": [
    {
     "name": "stdout",
     "output_type": "stream",
     "text": [
      "['I', 'was', 'sad', 'I', 'am']\n"
     ]
    }
   ],
   "source": [
    "from textblob import TextBlob\n",
    "text='I was sad. I am happy. I will be elated.'\n",
    "blob=TextBlob(text)\n",
    "print(blob.words[0:5])"
   ]
  },
  {
   "cell_type": "code",
   "execution_count": 10,
   "id": "0d1efd7f",
   "metadata": {},
   "outputs": [
    {
     "name": "stdout",
     "output_type": "stream",
     "text": [
      "I\n",
      " \n",
      "w\n",
      "a\n",
      "s\n",
      " \n",
      "s\n",
      "a\n",
      "d\n",
      ".\n",
      " \n",
      "I\n",
      " \n",
      "a\n",
      "m\n",
      " \n",
      "h\n",
      "a\n",
      "p\n",
      "p\n",
      "y\n",
      ".\n",
      " \n",
      "I\n",
      " \n",
      "w\n",
      "i\n",
      "l\n",
      "l\n",
      " \n",
      "b\n",
      "e\n",
      " \n",
      "e\n",
      "l\n",
      "a\n",
      "t\n",
      "e\n",
      "d\n",
      ".\n"
     ]
    }
   ],
   "source": [
    "from textblob import TextBlob\n",
    "text='I was sad. I am happy. I will be elated.'\n",
    "blob=TextBlob(text)\n",
    "for i in blob:\n",
    "    print(i)"
   ]
  },
  {
   "cell_type": "code",
   "execution_count": 11,
   "id": "d0eac9f4",
   "metadata": {},
   "outputs": [
    {
     "name": "stdout",
     "output_type": "stream",
     "text": [
      "I\n",
      "was\n",
      "sad\n",
      "I\n",
      "am\n",
      "happy\n",
      "I\n",
      "will\n",
      "be\n",
      "elated\n"
     ]
    }
   ],
   "source": [
    "from textblob import TextBlob\n",
    "text='I was sad. I am happy. I will be elated.'\n",
    "blob=TextBlob(text)\n",
    "for i in blob.words:\n",
    "    print(i)"
   ]
  },
  {
   "cell_type": "code",
   "execution_count": 12,
   "id": "8b610869",
   "metadata": {},
   "outputs": [
    {
     "name": "stdout",
     "output_type": "stream",
     "text": [
      "[Sentence(\"I was sad.\"), Sentence(\"I am happy.\"), Sentence(\"I will be elated.\")]\n",
      "<class 'list'>\n"
     ]
    }
   ],
   "source": [
    "from textblob import TextBlob\n",
    "text='I was sad. I am happy. I will be elated.'\n",
    "blob=TextBlob(text)\n",
    "print(blob.sentences)\n",
    "print(type(blob.sentences))"
   ]
  },
  {
   "cell_type": "code",
   "execution_count": 13,
   "id": "a254d966",
   "metadata": {},
   "outputs": [
    {
     "name": "stdout",
     "output_type": "stream",
     "text": [
      "I was sad.\n",
      "I am happy.\n",
      "I will be elated.\n"
     ]
    }
   ],
   "source": [
    "from textblob import TextBlob\n",
    "text='I was sad. I am happy. I will be elated.'\n",
    "blob=TextBlob(text)\n",
    "for i in blob.sentences:\n",
    "    print(i)"
   ]
  },
  {
   "cell_type": "code",
   "execution_count": 14,
   "id": "718b2b40",
   "metadata": {},
   "outputs": [
    {
     "name": "stdout",
     "output_type": "stream",
     "text": [
      "I will be elated.\n"
     ]
    }
   ],
   "source": [
    "from textblob import TextBlob\n",
    "text='I was sad. I am happy. I will be elated.'\n",
    "blob=TextBlob(text)\n",
    "for i in blob.sentences:\n",
    "    if 'be' in i:\n",
    "        print(i)"
   ]
  },
  {
   "cell_type": "markdown",
   "id": "f08bd482",
   "metadata": {},
   "source": [
    "\n",
    "Common Parts of Speech Tags\n",
    "The most commonly used POS tags follow the Penn Treebank Tagset, including:\n",
    "\n",
    "Noun (NN, NNS, NNP, NNPS) – Singular/plural/common/proper nouns\n",
    "Pronoun (PRP, PRP$) – Personal and possessive pronouns\n",
    "Verb (VB, VBD, VBG, VBN, VBP, VBZ) – Base, past tense, gerund, past participle, etc.\n",
    "Adjective (JJ, JJR, JJS) – Adjectives and their comparative/superlative forms\n",
    "Adverb (RB, RBR, RBS) – Adverbs and their comparative/superlative forms\n",
    "Preposition (IN) – Words like \"in,\" \"on,\" \"at\"\n",
    "Conjunction (CC, SUB) – Coordinating and subordinating conjunctions\n",
    "Determiner (DT) – Articles like \"the\" and \"a\"\n",
    "Interjection (UH) – Words like \"wow\" and \"oh\"\n"
   ]
  },
  {
   "cell_type": "code",
   "execution_count": 15,
   "id": "d2ac90d2",
   "metadata": {},
   "outputs": [
    {
     "name": "stdout",
     "output_type": "stream",
     "text": [
      "[('I', 'PRP'), ('was', 'VBD'), ('sad', 'JJ'), ('I', 'PRP'), ('am', 'VBP'), ('happy', 'JJ'), ('I', 'PRP'), ('will', 'MD'), ('be', 'VB'), ('elated', 'VBN')]\n"
     ]
    }
   ],
   "source": [
    "from textblob import TextBlob\n",
    "text='I was sad. I am happy. I will be elated.'\n",
    "blob=TextBlob(text)\n",
    "print(blob.tags)"
   ]
  },
  {
   "cell_type": "markdown",
   "id": "1e39bd40",
   "metadata": {},
   "source": [
    "\"noun phrases noun phrase is a group of two or more words that functions like a noun when put together.\"\n"
   ]
  },
  {
   "cell_type": "code",
   "execution_count": 17,
   "id": "1e371186",
   "metadata": {},
   "outputs": [
    {
     "name": "stdout",
     "output_type": "stream",
     "text": [
      "['vast organizations', 'europe', 'asia', 'europe', \"'s exploitations\", 'asia', 'superior technology']\n"
     ]
    }
   ],
   "source": [
    "from textblob import TextBlob\n",
    "text='''There are vast organizations in Europe and Asia\n",
    "who are rivals. The stories of Europe's exploitations have reached\n",
    "far and wide. Other countries have joined forced with Asia's superior\n",
    "technology to level the playing field and change the story.\n",
    "'''\n",
    "blob=TextBlob(text)\n",
    "print(blob.noun_phrases)"
   ]
  },
  {
   "cell_type": "markdown",
   "id": "a146d162",
   "metadata": {},
   "source": [
    "TextBlob's sentiment function: polarity refers to the overall sentiment of a text on a scale from -1 (very negative) to 1 (very positive). subjectivity indicates how much personal opinion or judgment is expressed in the text, ranging from 0 (completely objective/factual) to 1 (highly subjective/opinionated)."
   ]
  },
  {
   "cell_type": "code",
   "execution_count": 21,
   "id": "ae82ab3f",
   "metadata": {},
   "outputs": [
    {
     "name": "stdout",
     "output_type": "stream",
     "text": [
      "Sentiment(polarity=-0.45, subjectivity=1.0)\n",
      "Sentiment(polarity=0.8, subjectivity=1.0)\n",
      "Sentiment(polarity=0.15000000000000002, subjectivity=1.0)\n"
     ]
    }
   ],
   "source": [
    "from textblob import TextBlob\n",
    "text='I am sad. I am  not happy.'\n",
    "text1='I am Happy'\n",
    "text2=' I am neither happy nor sad'\n",
    "blob=TextBlob(text)\n",
    "blob1=TextBlob(text1)\n",
    "blob2=TextBlob(text2)\n",
    "print(blob.sentiment)\n",
    "print(blob1.sentiment)\n",
    "print(blob2.sentiment)"
   ]
  },
  {
   "cell_type": "code",
   "execution_count": 22,
   "id": "912de03c",
   "metadata": {},
   "outputs": [
    {
     "name": "stdout",
     "output_type": "stream",
     "text": [
      "Sentiment(polarity=-0.5, subjectivity=1.0)\n",
      "Sentiment(polarity=0.0, subjectivity=0.0)\n",
      "Sentiment(polarity=0.5, subjectivity=0.6)\n"
     ]
    }
   ],
   "source": [
    "from textblob import TextBlob\n",
    "text='I think he is sad.'\n",
    "text1='Sun rises in the east'\n",
    "text2=' I Love India'\n",
    "blob=TextBlob(text)\n",
    "blob1=TextBlob(text1)\n",
    "blob2=TextBlob(text2)\n",
    "print(blob.sentiment)\n",
    "print(blob1.sentiment)\n",
    "print(blob2.sentiment)"
   ]
  },
  {
   "cell_type": "code",
   "execution_count": 33,
   "id": "43f614d9",
   "metadata": {},
   "outputs": [
    {
     "name": "stdout",
     "output_type": "stream",
     "text": [
      "<class 'textblob.en.sentiments.Sentiment'>\n",
      "\n",
      "Sentiment(polarity=0.5, subjectivity=0.6)\n",
      "Sentiment(polarity=0.15000000000000002, subjectivity=1.0)\n",
      "Sentiment(polarity=0.75, subjectivity=0.8)\n",
      "Sentiment(polarity=0.045833333333333316, subjectivity=0.6458333333333334)\n",
      "Sentiment(polarity=-0.9916666666666667, subjectivity=0.9916666666666667)\n",
      "\n",
      "I was sad.  : polarity<0.0\n",
      "I am happy.  : polarity>0.0\n",
      "I will be elated.  : polarity=0.0\n"
     ]
    }
   ],
   "source": [
    "from textblob import TextBlob\n",
    "text1='Love never came to me in a silver spoon, so I licked it off knives.'\n",
    "text2='I was sad. I am happy. I will be elated.'\n",
    "text3='I am very happy because I was enjoying my time at home during holidays.'\n",
    "text4='''There are vast organizations in Europe and Asia\n",
    "who are rivals. The stories of Europe's exploitations have reached\n",
    "far and wide. Other countries have joined forced with Asia's superior\n",
    "technology to level the playing field and change the story.\n",
    "'''\n",
    "text5='This product is awful. It smells disgusting. Very disappointed.'\n",
    "blob1=TextBlob(text1)\n",
    "blob2=TextBlob(text2)\n",
    "blob3=TextBlob(text3)\n",
    "blob4=TextBlob(text4)\n",
    "blob5=TextBlob(text5)\n",
    "\n",
    "print(type(blob1.sentiment)) # <class 'textblob.en.sentiments.Sentiment'>\n",
    "print()\n",
    "\n",
    "print(blob1.sentiment) # Sentiment(polarity=0.5, subjectivity=0.6) #Misleading because the sentence is not positive.\n",
    "print(blob2.sentiment) # Sentiment(polarity=0.15000000000000002, subjectivity=1.0)\n",
    "print(blob3.sentiment) # Sentiment(polarity=0.75, subjectivity=0.8)\n",
    "print(blob4.sentiment) # Sentiment(polarity=0.045833333333333316, subjectivity=0.6458333333333334)\n",
    "print(blob5.sentiment) # Sentiment(polarity=-0.9916666666666667, subjectivity=0.9916666666666667)\n",
    "print()\n",
    "\n",
    "for i in blob2.sentences:\n",
    "    if i.sentiment.polarity>0.0:\n",
    "        print(i,' : polarity>0.0')\n",
    "    elif i.sentiment.polarity==0.0:\n",
    "        print(i,' : polarity=0.0')\n",
    "    elif i.sentiment.polarity<0.0:\n",
    "        print(i,' : polarity<0.0')"
   ]
  },
  {
   "cell_type": "markdown",
   "id": "4c962164",
   "metadata": {},
   "source": [
    "NaiveBayes Analyzer: \n",
    "import nltk\n",
    "nltk.download('movie_reviews')\n",
    "nltk.download('punkt')"
   ]
  },
  {
   "cell_type": "markdown",
   "id": "34223d42",
   "metadata": {},
   "source": [
    "By default, a TextBlob and the Sentences and Words you get from it determine sentiment using a PatternAnalyzer, which uses the same sentiment analysis techniques as in the Pattern library. The TextBlob library also comes with a NaiveBayesAnalyzer9 (module textblob.sentiments), which was trained on a database of movie reviews.The following uses the analyzer keyword argument to specify a TextBlob’s sentiment analyzer."
   ]
  },
  {
   "cell_type": "code",
   "execution_count": 30,
   "id": "71887b65",
   "metadata": {},
   "outputs": [
    {
     "name": "stdout",
     "output_type": "stream",
     "text": [
      "Sentiment(classification='neg', p_pos=0.47662917962091056, p_neg=0.5233708203790892)\n"
     ]
    }
   ],
   "source": [
    "from textblob import TextBlob\n",
    "from textblob.sentiments import NaiveBayesAnalyzer\n",
    "text = \"Today is a beautiful day. Tomorrow looks like bad weather.\"\n",
    "blob = TextBlob(text, analyzer=NaiveBayesAnalyzer())\n",
    "print(blob.sentiment)"
   ]
  },
  {
   "cell_type": "markdown",
   "id": "f741df5e",
   "metadata": {},
   "source": [
    "In this case, the overall sentiment is classified as negative (classification='neg'). The\n",
    "Sentiment object’s p_pos indicates that the TextBlob is 47.66% positive, and its p_neg\n",
    "indicates that the TextBlob is 52.34% negative. Since the overall sentiment is just slightly\n",
    "more negative we’d probably view this TextBlob’s sentiment as neutral overall."
   ]
  },
  {
   "cell_type": "code",
   "execution_count": 36,
   "id": "29782c95",
   "metadata": {},
   "outputs": [
    {
     "name": "stdout",
     "output_type": "stream",
     "text": [
      "Sentence: \"Today is a beautiful day.\"\n",
      "Classification: pos\n",
      "Positive Probability: 0.81\n",
      "Negative Probability: 0.19\n",
      "\n",
      "Sentence: \"Tomorrow looks like bad weather.\"\n",
      "Classification: neg\n",
      "Positive Probability: 0.17\n",
      "Negative Probability: 0.83\n",
      "\n"
     ]
    }
   ],
   "source": [
    "from textblob import TextBlob\n",
    "from textblob.sentiments import NaiveBayesAnalyzer\n",
    "text = \"Today is a beautiful day. Tomorrow looks like bad weather.\"\n",
    "blob = TextBlob(text, analyzer=NaiveBayesAnalyzer())\n",
    "# Analyze sentiment for each sentence\n",
    "for sentence in blob.sentences:\n",
    "    sentiment = sentence.sentiment\n",
    "    print(f\"Sentence: \\\"{sentence}\\\"\")\n",
    "    print(f\"Classification: {sentiment.classification}\")\n",
    "    print(f\"Positive Probability: {sentiment.p_pos:.2f}\")\n",
    "    print(f\"Negative Probability: {sentiment.p_neg:.2f}\\n\")"
   ]
  },
  {
   "cell_type": "markdown",
   "id": "a9b040e8",
   "metadata": {},
   "source": [
    "Rather than polarity and subjectivity, the Sentiment objects we get from\n",
    "the NaiveBayesAnalyzer contain a classification—'pos' (positive) or 'neg' (negative)—\n",
    "and p_pos (percentage positive) and p_neg (percentage negative) values from 0.0 to 1.0."
   ]
  },
  {
   "cell_type": "markdown",
   "id": "cb30d19d",
   "metadata": {},
   "source": [
    "Language detection A code is written below this line and this code does not work. It gives the following output: AttributeError: 'TextBlob' object has no attribute 'detect_language'\n",
    "\n",
    "Newer versions of TextBlob (≥ 0.17) do not include the detect_language() method. In older versions, detect_language() used Google’s translation API, but this feature was removed due to Google API restrictions."
   ]
  },
  {
   "cell_type": "code",
   "execution_count": 26,
   "id": "3fe4dbec",
   "metadata": {},
   "outputs": [
    {
     "ename": "AttributeError",
     "evalue": "'TextBlob' object has no attribute 'detect_language'",
     "output_type": "error",
     "traceback": [
      "\u001b[1;31m---------------------------------------------------------------------------\u001b[0m",
      "\u001b[1;31mAttributeError\u001b[0m                            Traceback (most recent call last)",
      "Cell \u001b[1;32mIn[26], line 5\u001b[0m\n\u001b[0;32m      3\u001b[0m text1\u001b[38;5;241m=\u001b[39m\u001b[38;5;124m'\u001b[39m\u001b[38;5;124mLove never came to me in a silver spoon, so I licked it off knives.\u001b[39m\u001b[38;5;124m'\u001b[39m\n\u001b[0;32m      4\u001b[0m blob1\u001b[38;5;241m=\u001b[39mTextBlob(text1)\n\u001b[1;32m----> 5\u001b[0m \u001b[38;5;28mprint\u001b[39m(blob1\u001b[38;5;241m.\u001b[39mdetect_language())\n",
      "\u001b[1;31mAttributeError\u001b[0m: 'TextBlob' object has no attribute 'detect_language'"
     ]
    }
   ],
   "source": [
    "from textblob import TextBlob\n",
    "\n",
    "text1='Love never came to me in a silver spoon, so I licked it off knives.'\n",
    "blob1=TextBlob(text1)\n",
    "print(blob1.detect_language())"
   ]
  },
  {
   "cell_type": "markdown",
   "id": "70ce16e3",
   "metadata": {},
   "source": [
    "Since TextBlob.detect_language() no longer exists, you can use the langdetect library, which works offline. First, we download the langdetect library in Jupyter notebook."
   ]
  },
  {
   "cell_type": "code",
   "execution_count": 6,
   "id": "88196288",
   "metadata": {},
   "outputs": [
    {
     "name": "stdout",
     "output_type": "stream",
     "text": [
      "Requirement already satisfied: langdetect in c:\\users\\payel\\anaconda3\\lib\\site-packages (1.0.9)\n",
      "Requirement already satisfied: six in c:\\users\\payel\\anaconda3\\lib\\site-packages (from langdetect) (1.16.0)\n"
     ]
    }
   ],
   "source": [
    "!pip install langdetect"
   ]
  },
  {
   "cell_type": "code",
   "execution_count": 7,
   "id": "af9a9c63",
   "metadata": {},
   "outputs": [
    {
     "name": "stdout",
     "output_type": "stream",
     "text": [
      "en\n"
     ]
    }
   ],
   "source": [
    "from langdetect import detect\n",
    "\n",
    "text1 = \"Love never came to me in a silver spoon, so I licked it off knives.\"\n",
    "print(detect(text1))  # Output: 'en' (English)"
   ]
  },
  {
   "cell_type": "code",
   "execution_count": 8,
   "id": "af7a2eff",
   "metadata": {},
   "outputs": [
    {
     "name": "stdout",
     "output_type": "stream",
     "text": [
      "Detected Language in text1: en\n",
      "Detected Language in text2: hi\n",
      "Detected Language in text3: bn\n"
     ]
    }
   ],
   "source": [
    "from langdetect import detect\n",
    "\n",
    "text1 = \"Love never came to me in a silver spoon, so I licked it off knives.\"\n",
    "text2 = \"खिलते हैं गुल यहाँ खिल के बिखरने को.\"\n",
    "text3 = \"আমি বাংলায় কথা বলছি।\"\n",
    "\n",
    "print(f\"Detected Language in text1: {detect(text1)}\")\n",
    "print(f\"Detected Language in text2: {detect(text2)}\")\n",
    "print(f\"Detected Language in text3: {detect(text3)}\")"
   ]
  },
  {
   "cell_type": "code",
   "execution_count": 11,
   "id": "0925aff1",
   "metadata": {},
   "outputs": [
    {
     "name": "stdout",
     "output_type": "stream",
     "text": [
      "Collecting deep-translator\n",
      "  Obtaining dependency information for deep-translator from https://files.pythonhosted.org/packages/38/3f/61a8ef73236dbea83a1a063a8af2f8e1e41a0df64f122233938391d0f175/deep_translator-1.11.4-py3-none-any.whl.metadata\n",
      "  Downloading deep_translator-1.11.4-py3-none-any.whl.metadata (30 kB)\n",
      "Requirement already satisfied: beautifulsoup4<5.0.0,>=4.9.1 in c:\\users\\payel\\anaconda3\\lib\\site-packages (from deep-translator) (4.12.2)\n",
      "Requirement already satisfied: requests<3.0.0,>=2.23.0 in c:\\users\\payel\\anaconda3\\lib\\site-packages (from deep-translator) (2.31.0)\n",
      "Requirement already satisfied: soupsieve>1.2 in c:\\users\\payel\\anaconda3\\lib\\site-packages (from beautifulsoup4<5.0.0,>=4.9.1->deep-translator) (2.4)\n",
      "Requirement already satisfied: charset-normalizer<4,>=2 in c:\\users\\payel\\anaconda3\\lib\\site-packages (from requests<3.0.0,>=2.23.0->deep-translator) (2.0.4)\n",
      "Requirement already satisfied: idna<4,>=2.5 in c:\\users\\payel\\anaconda3\\lib\\site-packages (from requests<3.0.0,>=2.23.0->deep-translator) (2.10)\n",
      "Requirement already satisfied: urllib3<3,>=1.21.1 in c:\\users\\payel\\anaconda3\\lib\\site-packages (from requests<3.0.0,>=2.23.0->deep-translator) (1.26.16)\n",
      "Requirement already satisfied: certifi>=2017.4.17 in c:\\users\\payel\\anaconda3\\lib\\site-packages (from requests<3.0.0,>=2.23.0->deep-translator) (2023.11.17)\n",
      "Downloading deep_translator-1.11.4-py3-none-any.whl (42 kB)\n",
      "   ---------------------------------------- 0.0/42.3 kB ? eta -:--:--\n",
      "   ---------------------------------------- 42.3/42.3 kB 2.0 MB/s eta 0:00:00\n",
      "Installing collected packages: deep-translator\n",
      "Successfully installed deep-translator-1.11.4\n",
      "Note: you may need to restart the kernel to use updated packages.\n"
     ]
    }
   ],
   "source": [
    "pip install deep-translator"
   ]
  },
  {
   "cell_type": "markdown",
   "id": "c6e74966",
   "metadata": {},
   "source": [
    "The translation feature in TextBlob relies on Google Translate, and the latest versions of googletrans may not work properly with TextBlob."
   ]
  },
  {
   "cell_type": "code",
   "execution_count": 14,
   "id": "d7bc0245",
   "metadata": {},
   "outputs": [
    {
     "name": "stdout",
     "output_type": "stream",
     "text": [
      "Detected Language: en\n",
      "Translated Text: El amor nunca me vino en una cuchara plateada, así que lo lamí de los cuchillos.\n",
      "Detected Language: es\n"
     ]
    }
   ],
   "source": [
    "from deep_translator import GoogleTranslator\n",
    "from langdetect import detect\n",
    "\n",
    "text1 = \"Love never came to me in a silver spoon, so I licked it off knives.\"\n",
    "\n",
    "# Detect language\n",
    "detected_lang = detect(text1)\n",
    "print(f\"Detected Language: {detected_lang}\")\n",
    "\n",
    "# Translate using deep_translator\n",
    "spanish_translated_text = GoogleTranslator(source='auto', target='es').translate(text1)\n",
    "print(f\"Translated Text: {spanish_translated_text}\")\n",
    "\n",
    "detected_lang1 = detect(spanish_translated_text)\n",
    "print(f\"Detected Language: {detected_lang1}\")"
   ]
  },
  {
   "cell_type": "markdown",
   "id": "cbbaa9cf",
   "metadata": {},
   "source": [
    "Inflection : Plularization and Singularization (making words plural and singular)"
   ]
  },
  {
   "cell_type": "code",
   "execution_count": 17,
   "id": "387a4d7e",
   "metadata": {},
   "outputs": [
    {
     "name": "stdout",
     "output_type": "stream",
     "text": [
      "indices\n",
      "child\n",
      "['we', 'wass', 'sads', 'we', 'ams', 'happies', 'we', 'wills', 'bes', 'elateds']\n"
     ]
    }
   ],
   "source": [
    "from textblob import Word\n",
    "from textblob import TextBlob\n",
    "\n",
    "word1=Word('index')\n",
    "word2=Word('children')\n",
    "\n",
    "text1='I was sad. I am happy. I will be elated.'\n",
    "blob=TextBlob(text1).words\n",
    "\n",
    "print(word1.pluralize())\n",
    "print(word2.singularize())\n",
    "print(blob.pluralize())"
   ]
  },
  {
   "cell_type": "raw",
   "id": "a8f76bc0",
   "metadata": {},
   "source": [
    "Spell checking and correction"
   ]
  },
  {
   "cell_type": "code",
   "execution_count": 18,
   "id": "be73ca07",
   "metadata": {},
   "outputs": [
    {
     "name": "stdout",
     "output_type": "stream",
     "text": [
      "[('they', 0.5713042216741622), ('their', 0.42869577832583783)]\n",
      "they\n",
      "I was sad. I am happy. I will be elated.\n"
     ]
    }
   ],
   "source": [
    "from textblob import Word, TextBlob\n",
    "\n",
    "word1=Word('theyr')\n",
    "text1='I ws sad. I am hapy. I wil be elatd.'\n",
    "\n",
    "blob1=TextBlob(text1)\n",
    "\n",
    "print(word1.spellcheck())\n",
    "print(word1.correct())\n",
    "print(blob1.correct())\n",
    "\n",
    "# The output will show a list of tuples containing possible correct spellings and respective confidence values.\n",
    "# Note that the word with the highest confidence value may not be the correct word for the given context."
   ]
  },
  {
   "cell_type": "markdown",
   "id": "00e94fe9",
   "metadata": {},
   "source": [
    "Normalization: Stemming and Lemmatization\n",
    "\n",
    "Stemming\n",
    "\n",
    "The modern English language is considered a weakly inflected language. There are many words in English derived from another word, e.g., the inflected word “normality” is derived from the word “norm,” which is the root form. Stemming is a technique used to reduce an inflected word down to its word stem, e.g., the words “programming”, “programmer”, and “programs” can all be reduced down to the common word stem “program”. Alternatively, “program” can be used as a synonym for the prior three inflection words. The stem may or may not be a real word.\n",
    "\n",
    "Lemmatization\n",
    "\n",
    "Lemmatization is another technique used to reduce inflected words to their root word. It describes the algorithmic process of identifying an inflected word’s “lemma” (dictionary form) based on its intended meaning.\n",
    "\n",
    "As opposed to stemming, lemmatization relies on accurately determining the intended part-of-speech and the meaning of a word based on its context. It considers where the inflected word falls within a sentence as well as within the larger context surrounding that sentence, such as neighboring sentences or even an entire document. It results in a real word."
   ]
  },
  {
   "cell_type": "code",
   "execution_count": 5,
   "id": "fecb71e4",
   "metadata": {},
   "outputs": [
    {
     "name": "stdout",
     "output_type": "stream",
     "text": [
      "The word 'read' appears 10 times in the text.\n"
     ]
    }
   ],
   "source": [
    "from pathlib import Path\n",
    "from textblob import TextBlob\n",
    "\n",
    "# Define the path to the text file\n",
    "file_path = Path(r'C:\\Users\\PAYEL\\Desktop\\qwerty.txt') # open notepad . write a text file and then give teh path here.\n",
    "\n",
    "# Read the content of the file with the specified encoding\n",
    "text = file_path.read_text(encoding='utf-8')\n",
    "\n",
    "# Create a TextBlob object\n",
    "blob = TextBlob(text)\n",
    "\n",
    "# Count occurrences of the word 'beam'\n",
    "read_count = blob.word_counts['read']\n",
    "\n",
    "print(f\"The word 'read' appears {read_count} times in the text.\")"
   ]
  },
  {
   "cell_type": "markdown",
   "id": "cc286e40",
   "metadata": {},
   "source": [
    "Definitions, Synonyms, and Antonyms"
   ]
  },
  {
   "cell_type": "code",
   "execution_count": 7,
   "id": "d832e272",
   "metadata": {},
   "outputs": [
    {
     "name": "stdout",
     "output_type": "stream",
     "text": [
      "['enjoying or showing or marked by joy or pleasure', 'marked by good fortune', 'eagerly disposed to act or to be of service', 'well expressed and to the point']\n"
     ]
    }
   ],
   "source": [
    "from textblob import Word\n",
    "word=Word('happy')\n",
    "print(word.definitions) # presents a list of the word's definitions"
   ]
  },
  {
   "cell_type": "markdown",
   "id": "a4108eeb",
   "metadata": {},
   "source": [
    "The database does not necessarily contain every dictionary definition of a given word.\n",
    "There’s also a define method that enables you to pass a part of speech as an argument so you can get definitions matching only that part of speech.\n",
    "In TextBlob, the define() method is associated with the Word class and is used to retrieve definitions of a word from WordNet, a comprehensive lexical database for the English language. This method provides an easy way to access the meanings of words directly within your Python code."
   ]
  },
  {
   "cell_type": "code",
   "execution_count": 8,
   "id": "ab3dd932",
   "metadata": {},
   "outputs": [
    {
     "name": "stdout",
     "output_type": "stream",
     "text": [
      "tentacles of octopus prepared as food\n",
      "bottom-living cephalopod having a soft oval body with eight long tentacles\n"
     ]
    }
   ],
   "source": [
    "from textblob import Word\n",
    "\n",
    "# Create a Word object\n",
    "word = Word(\"octopus\")\n",
    "\n",
    "# Retrieve definitions\n",
    "definitions = word.define()\n",
    "\n",
    "# Display definitions\n",
    "for definition in definitions:\n",
    "    print(definition)"
   ]
  },
  {
   "cell_type": "markdown",
   "id": "18d816d7",
   "metadata": {},
   "source": [
    "Synonyms:\n",
    "Each Synset represents a group of synonyms. In the notation happy.a.01:\n",
    "\n",
    "• happy is the original Word’s lemmatized form (in this case, it’s the same).\n",
    "\n",
    "• a is the part of speech, which can be a for adjective, n for noun, v for verb, r for adverb or s for adjective satellite. Many adjective synsets in WordNet have satellite synsets that represent similar adjectives.\n",
    "\n",
    "• 01 is a 0-based index number. Many words have multiple meanings, and this is the index number of the corresponding meaning in the WordNet database.\n",
    "\n",
    "\n"
   ]
  },
  {
   "cell_type": "code",
   "execution_count": 10,
   "id": "26a0e1ac",
   "metadata": {},
   "outputs": [
    {
     "name": "stdout",
     "output_type": "stream",
     "text": [
      "[Synset('happy.a.01'), Synset('felicitous.s.02'), Synset('glad.s.02'), Synset('happy.s.04')]\n"
     ]
    }
   ],
   "source": [
    "from textblob import Word\n",
    "word=Word('happy')\n",
    "print(word.synsets) # presents a list of synonyms"
   ]
  },
  {
   "cell_type": "markdown",
   "id": "13c0af17",
   "metadata": {},
   "source": [
    "In TextBlob, the get_synsets method of the Word class allows you to retrieve synsets (sets of cognitive synonyms) associated with a word from WordNet. By passing a part-of-speech (POS) argument to this method, you can filter synsets to match only the specified POS. Here's how you can utilize this feature:"
   ]
  },
  {
   "cell_type": "code",
   "execution_count": 18,
   "id": "e640f0a4",
   "metadata": {},
   "outputs": [
    {
     "name": "stdout",
     "output_type": "stream",
     "text": [
      "Verb Synsets:\n",
      "run.v.01: move fast by using one's feet, with one foot off the ground at any given time\n",
      "scat.v.01: flee; take to one's heels; cut and run\n",
      "run.v.03: stretch out over a distance, space, time, or scope; run or extend between two points or beyond a certain point\n",
      "operate.v.01: direct or control; projects, businesses, etc.\n",
      "run.v.05: have a particular form\n",
      "run.v.06: move along, of liquids\n",
      "function.v.01: perform as expected when applied\n",
      "range.v.01: change or be different within limits\n",
      "campaign.v.01: run, stand, or compete for an office or a position\n",
      "play.v.18: cause to emit recorded audio or video\n",
      "run.v.11: move about freely and without restraint, or act as if running around in an uncontrolled way\n",
      "tend.v.01: have a tendency or disposition to do or be something; be inclined\n",
      "run.v.13: be operating, running or functioning\n",
      "run.v.14: change from one state to another\n",
      "run.v.15: cause to perform\n",
      "run.v.16: be affected by; be subjected to\n",
      "prevail.v.03: continue to exist\n",
      "run.v.18: occur persistently\n",
      "run.v.19: carry out a process or program, as on a computer or a machine\n",
      "carry.v.15: include as the content; broadcast or publicize\n",
      "run.v.21: carry out\n",
      "guide.v.05: pass over, across, or through\n",
      "run.v.23: cause something to pass or lead somewhere\n",
      "run.v.24: make without a miss\n",
      "run.v.25: deal in illegally, such as arms or liquor\n",
      "run.v.26: cause an animal to move fast\n",
      "run.v.27: be diffused\n",
      "run.v.28: sail before the wind\n",
      "run.v.29: cover by running; run a certain distance\n",
      "run.v.30: extend or continue for a certain period of time\n",
      "run.v.31: set animals loose to graze\n",
      "run.v.32: keep company\n",
      "run.v.33: run with the ball; in such sports as football\n",
      "run.v.34: travel rapidly, by any (unspecified) means\n",
      "ply.v.03: travel a route regularly\n",
      "hunt.v.01: pursue for food or sport (as of wild animals)\n",
      "race.v.02: compete in a race\n",
      "move.v.13: progress by being changed\n",
      "melt.v.01: reduce or cause to be reduced from a solid to a liquid state, usually by heating\n",
      "ladder.v.01: come unraveled or undone as if by snagging\n",
      "run.v.41: become undone\n",
      "\n",
      "Noun Synsets:\n",
      "run.n.01: a score in baseball made by a runner touching all four bases safely\n",
      "test.n.05: the act of testing something\n",
      "footrace.n.01: a race run on foot\n",
      "streak.n.01: an unbroken series of events\n",
      "run.n.05: (American football) a play in which a player attempts to carry the ball through or past the opposing team\n",
      "run.n.06: a regular trip\n",
      "run.n.07: the act of running; traveling on foot at a fast pace\n",
      "run.n.08: the continuous period of time during which something (a machine or a factory) operates or continues in operation\n",
      "run.n.09: unrestricted freedom to use\n",
      "run.n.10: the production achieved during a continuous period of operation (of a machine or factory etc.)\n",
      "rivulet.n.01: a small stream\n",
      "political_campaign.n.01: a race between candidates for elective office\n",
      "run.n.13: a row of unravelled stitches\n",
      "discharge.n.06: the pouring forth of a fluid\n",
      "run.n.15: an unbroken chronological sequence\n",
      "run.n.16: a short trip\n"
     ]
    }
   ],
   "source": [
    "from textblob import Word\n",
    "from textblob.wordnet import VERB, NOUN, ADJ, ADV\n",
    "\n",
    "# Create a Word object\n",
    "word = Word(\"run\")\n",
    "\n",
    "# Retrieve synsets for the word as a verb\n",
    "verb_synsets = word.get_synsets(pos=VERB)\n",
    "print(\"Verb Synsets:\")\n",
    "for synset in verb_synsets:\n",
    "    print(f\"{synset.name()}: {synset.definition()}\")\n",
    "\n",
    "# Retrieve synsets for the word as a noun\n",
    "noun_synsets = word.get_synsets(pos=NOUN)\n",
    "print(\"\\nNoun Synsets:\")\n",
    "for synset in noun_synsets:\n",
    "    print(f\"{synset.name()}: {synset.definition()}\")"
   ]
  },
  {
   "cell_type": "markdown",
   "id": "ace979a7",
   "metadata": {},
   "source": [
    "Each Synset has a lemmas method that returns a list of Lemma objects representing the synonyms."
   ]
  },
  {
   "cell_type": "code",
   "execution_count": 19,
   "id": "51c18a42",
   "metadata": {},
   "outputs": [
    {
     "name": "stdout",
     "output_type": "stream",
     "text": [
      "Lemma('happy.a.01.happy')\n",
      "Lemma('felicitous.s.02.felicitous')\n",
      "Lemma('felicitous.s.02.happy')\n",
      "Lemma('glad.s.02.glad')\n",
      "Lemma('glad.s.02.happy')\n",
      "Lemma('happy.s.04.happy')\n",
      "Lemma('happy.s.04.well-chosen')\n"
     ]
    }
   ],
   "source": [
    "from textblob import Word\n",
    "word=Word('happy')\n",
    "for i in word.synsets:\n",
    "    for lemma in i.lemmas():\n",
    "        print(lemma)"
   ]
  },
  {
   "cell_type": "markdown",
   "id": "578ef8b0",
   "metadata": {},
   "source": [
    "A Lemma’s name method returns the synonymous word as a string."
   ]
  },
  {
   "cell_type": "code",
   "execution_count": 20,
   "id": "10f13cab",
   "metadata": {},
   "outputs": [
    {
     "name": "stdout",
     "output_type": "stream",
     "text": [
      "{'happy', 'felicitous', 'glad', 'well-chosen'}\n"
     ]
    }
   ],
   "source": [
    "from textblob import Word\n",
    "synonyms = set()\n",
    "word=Word('happy')\n",
    "for i in word.synsets:\n",
    "    for lemma in i.lemmas():\n",
    "        synonyms.add(lemma.name())\n",
    "print(synonyms)"
   ]
  },
  {
   "cell_type": "markdown",
   "id": "ded65249",
   "metadata": {},
   "source": [
    "Antonyms:\n",
    "\n",
    "Antonyms cannot be found directly. They have to be found using lemmas."
   ]
  },
  {
   "cell_type": "code",
   "execution_count": 21,
   "id": "7e4c5b41",
   "metadata": {},
   "outputs": [
    {
     "name": "stdout",
     "output_type": "stream",
     "text": [
      "[Lemma('unhappy.a.01.unhappy')]\n"
     ]
    }
   ],
   "source": [
    "from textblob import Word\n",
    "synonyms = set()\n",
    "word=Word('happy')\n",
    "Synset=word.synsets # [Synset('happy.a.01'), Synset('felicitous.s.02'), Synset('glad.s.02'), Synset('happy.s.04')]\n",
    "lemma=Synset[0].lemmas() # Lemma('happy.a.01.happy')\n",
    "print(lemma[0].antonyms())"
   ]
  },
  {
   "cell_type": "markdown",
   "id": "56c3ed0d",
   "metadata": {},
   "source": [
    "Stop words\n",
    "\n",
    "Stop words are common words in text that are often removed from text before analyzing it because they typically do not provide useful information. The NLTK library has lists of stop words for several other natural languages as well. Before using NLTK’s stop-words lists, you must download them, which you do with the nltk module’s download function."
   ]
  },
  {
   "cell_type": "markdown",
   "id": "571afbae",
   "metadata": {},
   "source": [
    "import nltk\n",
    "nltk.download('stopwords') # already downloaded above"
   ]
  },
  {
   "cell_type": "markdown",
   "id": "db972d18",
   "metadata": {},
   "source": [
    "First, we’ll load the 'english' stop words list.\n",
    "\n",
    "Then, to remove the stop words, let’s use the TextBlob’s words in a list comprehension."
   ]
  },
  {
   "cell_type": "code",
   "execution_count": 22,
   "id": "338c5a9d",
   "metadata": {},
   "outputs": [
    {
     "name": "stdout",
     "output_type": "stream",
     "text": [
      "['Today', 'beautiful', 'day']\n"
     ]
    }
   ],
   "source": [
    "from nltk.corpus import stopwords\n",
    "from textblob import TextBlob\n",
    "stops = stopwords.words('english')\n",
    "# print(stops)\n",
    "blob = TextBlob('Today is a beautiful day.')\n",
    "# print(blob.words)\n",
    "print([word for word in blob.words if word not in stops])"
   ]
  },
  {
   "cell_type": "code",
   "execution_count": 24,
   "id": "7b311848",
   "metadata": {},
   "outputs": [
    {
     "name": "stdout",
     "output_type": "stream",
     "text": [
      "['a', 'about', 'above', 'after', 'again', 'against', 'ain', 'all', 'am', 'an', 'and', 'any', 'are', 'aren', \"aren't\", 'as', 'at', 'be', 'because', 'been', 'before', 'being', 'below', 'between', 'both', 'but', 'by', 'can', 'couldn', \"couldn't\", 'd', 'did', 'didn', \"didn't\", 'do', 'does', 'doesn', \"doesn't\", 'doing', 'don', \"don't\", 'down', 'during', 'each', 'few', 'for', 'from', 'further', 'had', 'hadn', \"hadn't\", 'has', 'hasn', \"hasn't\", 'have', 'haven', \"haven't\", 'having', 'he', \"he'd\", \"he'll\", 'her', 'here', 'hers', 'herself', \"he's\", 'him', 'himself', 'his', 'how', 'i', \"i'd\", 'if', \"i'll\", \"i'm\", 'in', 'into', 'is', 'isn', \"isn't\", 'it', \"it'd\", \"it'll\", \"it's\", 'its', 'itself', \"i've\", 'just', 'll', 'm', 'ma', 'me', 'mightn', \"mightn't\", 'more', 'most', 'mustn', \"mustn't\", 'my', 'myself', 'needn', \"needn't\", 'no', 'nor', 'not', 'now', 'o', 'of', 'off', 'on', 'once', 'only', 'or', 'other', 'our', 'ours', 'ourselves', 'out', 'over', 'own', 're', 's', 'same', 'shan', \"shan't\", 'she', \"she'd\", \"she'll\", \"she's\", 'should', 'shouldn', \"shouldn't\", \"should've\", 'so', 'some', 'such', 't', 'than', 'that', \"that'll\", 'the', 'their', 'theirs', 'them', 'themselves', 'then', 'there', 'these', 'they', \"they'd\", \"they'll\", \"they're\", \"they've\", 'this', 'those', 'through', 'to', 'too', 'under', 'until', 'up', 've', 'very', 'was', 'wasn', \"wasn't\", 'we', \"we'd\", \"we'll\", \"we're\", 'were', 'weren', \"weren't\", \"we've\", 'what', 'when', 'where', 'which', 'while', 'who', 'whom', 'why', 'will', 'with', 'won', \"won't\", 'wouldn', \"wouldn't\", 'y', 'you', \"you'd\", \"you'll\", 'your', \"you're\", 'yours', 'yourself', 'yourselves', \"you've\"]\n"
     ]
    }
   ],
   "source": [
    "from nltk.corpus import stopwords\n",
    "stop_words = stopwords.words('english')\n",
    "print(stop_words)"
   ]
  },
  {
   "cell_type": "markdown",
   "id": "23d9be2a",
   "metadata": {},
   "source": [
    "Now we will create a bar chart that will display the top 20 words and their frequency of occurrence in a document"
   ]
  },
  {
   "cell_type": "markdown",
   "id": "c1e9a507",
   "metadata": {},
   "source": [
    "ngrams: An n-gram is a contiguous sequence of words in a text.\n",
    "\n",
    "Python produces a list of WordList n-grams of length three by default—known as trigrams. Its is better to understand this concept with an example."
   ]
  },
  {
   "cell_type": "code",
   "execution_count": 39,
   "id": "eb37609e",
   "metadata": {},
   "outputs": [
    {
     "name": "stdout",
     "output_type": "stream",
     "text": [
      "[WordList(['Today', 'is', 'a', 'beautiful', 'day.Tommorrow', 'looks']), WordList(['is', 'a', 'beautiful', 'day.Tommorrow', 'looks', 'like']), WordList(['a', 'beautiful', 'day.Tommorrow', 'looks', 'like', 'bad']), WordList(['beautiful', 'day.Tommorrow', 'looks', 'like', 'bad', 'weather'])]\n"
     ]
    }
   ],
   "source": [
    "from textblob import TextBlob\n",
    "text1='Today is a beautiful day.Tommorrow looks like bad weather.'\n",
    "blob1=TextBlob(text1)\n",
    "print(blob1.ngrams(n))"
   ]
  },
  {
   "cell_type": "code",
   "execution_count": 40,
   "id": "04d55442",
   "metadata": {},
   "outputs": [
    {
     "name": "stdout",
     "output_type": "stream",
     "text": [
      "[WordList(['Today', 'is', 'a', 'beautiful', 'day.Tommorrow']), WordList(['is', 'a', 'beautiful', 'day.Tommorrow', 'looks']), WordList(['a', 'beautiful', 'day.Tommorrow', 'looks', 'like']), WordList(['beautiful', 'day.Tommorrow', 'looks', 'like', 'bad']), WordList(['day.Tommorrow', 'looks', 'like', 'bad', 'weather'])]\n"
     ]
    }
   ],
   "source": [
    "from textblob import TextBlob\n",
    "text1='Today is a beautiful day.Tommorrow looks like bad weather.'\n",
    "blob1=TextBlob(text1)\n",
    "print(blob1.ngrams(n=5))"
   ]
  },
  {
   "cell_type": "code",
   "execution_count": 43,
   "id": "7b4c2e21",
   "metadata": {},
   "outputs": [
    {
     "data": {
      "text/plain": [
       "'\\nO/P:\\nA bar chart is displayed\\n'"
      ]
     },
     "execution_count": 43,
     "metadata": {},
     "output_type": "execute_result"
    },
    {
     "data": {
      "image/png": "[encoded data removed]",
      "text/plain": [
       "<Figure size 640x480 with 1 Axes>"
      ]
     },
     "metadata": {},
     "output_type": "display_data"
    }
   ],
   "source": [
    "from nltk.corpus import stopwords\n",
    "stop_words = stopwords.words('english')\n",
    "from pathlib import Path\n",
    "import textblob\n",
    "import pandas as pd\n",
    "from matplotlib import pyplot as plt\n",
    "blob=textblob.TextBlob(Path(r'C:\\Users\\PAYEL\\Desktop\\qwerty.txt').read_text('utf-8'))\n",
    "# print(blob.word_counts['beam']) #16\n",
    "items=blob.word_counts.items()\n",
    "# print(items)\n",
    "'''\n",
    "O/P:\n",
    "dict_items([('article', 1), ('in', 81), ('press', 2), ('jid', 1), ('joes', 1), ('m5g', 1), ('june', 1), ('15', 4), ('2022', 17), ('15:24', 1),\n",
    "('journal', 4), ('of', 173), ('ocean', 15), ('engineering', 5), ('and', 78), ('science', 5), ('xxx', 2), ('xxxx', 1), ('contents', 1), ('lists', 1), \n",
    "('available', 1), ('at', 8), ('sciencedirect', 1),...])\n",
    "'''\n",
    "items=[i for i in items if i[0] not in stop_words]\n",
    "# print(items)\n",
    "'''\n",
    "O/P:\n",
    "[('article', 1), ('press', 2), ('jid', 1), ('joes', 1), ('m5g', 1), ('june', 1), ('15', 4), ('2022', 17), ('15:24', 1), ('journal', 4), \n",
    "('ocean', 15), ('engineering', 5), ('science', 5), ('xxx', 2), ('xxxx', 1), ('contents', 1), ('lists', 1), ('available', 1), ('sciencedirect', 1), \n",
    "('homepage', 1), ('www.elsevier.com/locate/joes', 1), ('frequency', 10), ('shifts', 4), ('thermoelastic', 31), ('damping', 9),...]) \n",
    "'''\n",
    "# Now we want to determine the top 20 words. So we sort the tuples in items in descending order by frequency.\n",
    "from operator import itemgetter\n",
    "sorted_items=sorted(items,key=itemgetter(1),reverse=True) # Elements in items are sorted in reverse order w.r.t. the elements of each tuple in index 1\n",
    "# print(sorted_items)\n",
    "'''\n",
    "O/P:\n",
    "[('j', 52), ('thermoelastic', 31), ('singh', 27), ('beams', 24), ('theory', 22), ('model', 21), ('mech', 19), ('waves', 19), ('thermoelasticity', 18), \n",
    "('2022', 17), ('fs', 17), ('piezothermoelastic', 16), ('composite', 16), ('beam', 16), ('analysis', 16), ('wave', 16), ('3', 16), ('struct', 16), \n",
    "('eng', 16), ('sci', 16), ('ocean', 15), ('medium', 15), ('guha', 14),...])\n",
    "'''\n",
    "top20=sorted_items[0:20]\n",
    "# print(top20) # Print the 20 most frequently occurring words\n",
    "'''\n",
    "O/P:\n",
    "[('j', 52), ('thermoelastic', 31), ('singh', 27), ('beams', 24), ('theory', 22), ('model', 21), ('mech', 19), ('waves', 19), ('thermoelasticity', 18),\n",
    "('2022', 17), ('fs', 17), ('piezothermoelastic', 16), ('composite', 16), ('beam', 16), ('analysis', 16), ('wave', 16), ('3', 16), ('struct', 16), \n",
    "('eng', 16), ('sci', 16)]\n",
    "'''\n",
    "# Now we display the top 20 words in a table format\n",
    "df=pd.DataFrame(top20,columns=['Word','Count'])\n",
    "# print(df)\n",
    "'''\n",
    "O/P:\n",
    "                  Word  Count\n",
    "0                    j     52\n",
    "1        thermoelastic     31\n",
    "2                singh     27\n",
    "3                beams     24\n",
    "4               theory     22\n",
    "5                model     21\n",
    "6                 mech     19\n",
    "7                waves     19\n",
    "8     thermoelasticity     18\n",
    "9                 2022     17\n",
    "10                  fs     17\n",
    "11  piezothermoelastic     16\n",
    "12           composite     16\n",
    "13                beam     16\n",
    "14            analysis     16\n",
    "15                wave     16\n",
    "16                   3     16\n",
    "17              struct     16\n",
    "18                 eng     16\n",
    "19                 sci     16\n",
    "'''\n",
    "# Now we create a bar chart showing the same data. To do so, we use the bar method of the DataFrame's plot property.\n",
    "axes=df.plot.bar(x='Word',y='Count',legend=False)\n",
    "plt.gcf().tight_layout()\n",
    "# plt.show()\n",
    "'''\n",
    "O/P:\n",
    "A bar chart is displayed\n",
    "\n",
    "Note that the same thing can be done using the plt.bar method of matplotlib. The code is a little bigger and is given as follows:\n",
    "\n",
    "from matplotlib import pyplot as plt\n",
    "top20words=[i for i in df['Word']] # Convert the Word column of the dataframe to a list\n",
    "top20wordcounts=[i for i in df['Count']] # Convert the Count column of the dataframe to a list\n",
    "bars=plt.bar(top20words,top20wordcounts)\n",
    "plt.xticks(top20words, labels=[i for i in top20words], rotation=90) # Make the x-axis markers vertical\n",
    "plt.gcf().tight_layout() # Use this to stop the x-axis markers from truncating as some of them are big words\n",
    "# plt.show()\n",
    "'''\n",
    "'''\n",
    "O/P:\n",
    "A bar chart is displayed\n",
    "'''"
   ]
  },
  {
   "cell_type": "markdown",
   "id": "6262627d",
   "metadata": {},
   "source": [
    "Now we will create different shapes containing the words occurring in a document.\n",
    "    \n",
    "We need to import 2 modules **wordcloud** and **imageio**"
   ]
  },
  {
   "cell_type": "code",
   "execution_count": 44,
   "id": "0f7e1ec9",
   "metadata": {},
   "outputs": [
    {
     "name": "stdout",
     "output_type": "stream",
     "text": [
      "Collecting wordcloud\n",
      "  Obtaining dependency information for wordcloud from https://files.pythonhosted.org/packages/00/09/abb305dce85911b8fba382926cfc57f2f257729e25937fdcc63f3a1a67f9/wordcloud-1.9.4-cp311-cp311-win_amd64.whl.metadata\n",
      "  Downloading wordcloud-1.9.4-cp311-cp311-win_amd64.whl.metadata (3.5 kB)\n",
      "Requirement already satisfied: numpy>=1.6.1 in c:\\users\\payel\\anaconda3\\lib\\site-packages (from wordcloud) (1.24.3)\n",
      "Requirement already satisfied: pillow in c:\\users\\payel\\anaconda3\\lib\\site-packages (from wordcloud) (10.0.1)\n",
      "Requirement already satisfied: matplotlib in c:\\users\\payel\\anaconda3\\lib\\site-packages (from wordcloud) (3.7.2)\n",
      "Requirement already satisfied: contourpy>=1.0.1 in c:\\users\\payel\\anaconda3\\lib\\site-packages (from matplotlib->wordcloud) (1.0.5)\n",
      "Requirement already satisfied: cycler>=0.10 in c:\\users\\payel\\anaconda3\\lib\\site-packages (from matplotlib->wordcloud) (0.11.0)\n",
      "Requirement already satisfied: fonttools>=4.22.0 in c:\\users\\payel\\anaconda3\\lib\\site-packages (from matplotlib->wordcloud) (4.25.0)\n",
      "Requirement already satisfied: kiwisolver>=1.0.1 in c:\\users\\payel\\anaconda3\\lib\\site-packages (from matplotlib->wordcloud) (1.4.4)\n",
      "Requirement already satisfied: packaging>=20.0 in c:\\users\\payel\\anaconda3\\lib\\site-packages (from matplotlib->wordcloud) (23.1)\n",
      "Requirement already satisfied: pyparsing<3.1,>=2.3.1 in c:\\users\\payel\\anaconda3\\lib\\site-packages (from matplotlib->wordcloud) (3.0.9)\n",
      "Requirement already satisfied: python-dateutil>=2.7 in c:\\users\\payel\\anaconda3\\lib\\site-packages (from matplotlib->wordcloud) (2.8.2)\n",
      "Requirement already satisfied: six>=1.5 in c:\\users\\payel\\anaconda3\\lib\\site-packages (from python-dateutil>=2.7->matplotlib->wordcloud) (1.16.0)\n",
      "Downloading wordcloud-1.9.4-cp311-cp311-win_amd64.whl (299 kB)\n",
      "   ---------------------------------------- 0.0/299.9 kB ? eta -:--:--\n",
      "   - -------------------------------------- 10.2/299.9 kB ? eta -:--:--\n",
      "   --------- ----------------------------- 71.7/299.9 kB 991.0 kB/s eta 0:00:01\n",
      "   ---------------------------------------- 299.9/299.9 kB 2.7 MB/s eta 0:00:00\n",
      "Installing collected packages: wordcloud\n",
      "Successfully installed wordcloud-1.9.4\n"
     ]
    }
   ],
   "source": [
    "!pip install wordcloud"
   ]
  },
  {
   "cell_type": "code",
   "execution_count": 1,
   "id": "49e24be8",
   "metadata": {},
   "outputs": [],
   "source": [
    "from pathlib import Path\n",
    "text=Path(r'C:\\Users\\PAYEL\\Desktop\\qwerty.txt').read_text('utf-8') # Reading the text file whose words we want to access\n",
    "import imageio.v2 as imageio\n",
    "mask_image=imageio.imread('mask_heart.png') # A png file 'mask_heart' is already uploaded in jupyter (or the directory where you are doing the code)\n",
    "from wordcloud import WordCloud\n",
    "wordcloud=WordCloud(colormap='prism',mask=mask_image,background_color='white')\n",
    "wordcloud=wordcloud.generate(text)\n",
    "wordcloud=wordcloud.to_file('paper_heart.png') # We save the generated png file as 'paper_heart' in jupyter (or the directory where you are doing the code)\n"
   ]
  },
  {
   "cell_type": "markdown",
   "id": "2ff6eb35",
   "metadata": {},
   "source": [
    "Textatistic:\n",
    "\n",
    "For calculating statistics and finding readibility scores"
   ]
  },
  {
   "cell_type": "code",
   "execution_count": 2,
   "id": "6949f21d",
   "metadata": {},
   "outputs": [
    {
     "name": "stdout",
     "output_type": "stream",
     "text": [
      "Collecting textatistic\n",
      "  Downloading textatistic-0.0.1.tar.gz (29 kB)\n",
      "  Preparing metadata (setup.py): started\n",
      "  Preparing metadata (setup.py): finished with status 'done'\n",
      "Collecting pyhyphen>=2.0.5 (from textatistic)\n",
      "  Obtaining dependency information for pyhyphen>=2.0.5 from https://files.pythonhosted.org/packages/4a/89/34432450eaec027a2662a161986b62ab63b5e194cb549cc5248d576c102c/PyHyphen-4.0.4-cp37-abi3-win_amd64.whl.metadata\n",
      "  Downloading PyHyphen-4.0.4-cp37-abi3-win_amd64.whl.metadata (8.9 kB)\n",
      "Collecting wheel>=0.40.0 (from pyhyphen>=2.0.5->textatistic)\n",
      "  Obtaining dependency information for wheel>=0.40.0 from https://files.pythonhosted.org/packages/0b/2c/87f3254fd8ffd29e4c02732eee68a83a1d3c346ae39bc6822dcbcb697f2b/wheel-0.45.1-py3-none-any.whl.metadata\n",
      "  Downloading wheel-0.45.1-py3-none-any.whl.metadata (2.3 kB)\n",
      "Requirement already satisfied: setuptools>=68.0 in c:\\users\\payel\\anaconda3\\lib\\site-packages (from pyhyphen>=2.0.5->textatistic) (68.0.0)\n",
      "Requirement already satisfied: appdirs>=1.4.0 in c:\\users\\payel\\anaconda3\\lib\\site-packages (from pyhyphen>=2.0.5->textatistic) (1.4.4)\n",
      "Requirement already satisfied: requests>=2.25 in c:\\users\\payel\\anaconda3\\lib\\site-packages (from pyhyphen>=2.0.5->textatistic) (2.31.0)\n",
      "Requirement already satisfied: charset-normalizer<4,>=2 in c:\\users\\payel\\anaconda3\\lib\\site-packages (from requests>=2.25->pyhyphen>=2.0.5->textatistic) (2.0.4)\n",
      "Requirement already satisfied: idna<4,>=2.5 in c:\\users\\payel\\anaconda3\\lib\\site-packages (from requests>=2.25->pyhyphen>=2.0.5->textatistic) (2.10)\n",
      "Requirement already satisfied: urllib3<3,>=1.21.1 in c:\\users\\payel\\anaconda3\\lib\\site-packages (from requests>=2.25->pyhyphen>=2.0.5->textatistic) (1.26.16)\n",
      "Requirement already satisfied: certifi>=2017.4.17 in c:\\users\\payel\\anaconda3\\lib\\site-packages (from requests>=2.25->pyhyphen>=2.0.5->textatistic) (2023.11.17)\n",
      "Downloading PyHyphen-4.0.4-cp37-abi3-win_amd64.whl (38 kB)\n",
      "Downloading wheel-0.45.1-py3-none-any.whl (72 kB)\n",
      "   ---------------------------------------- 0.0/72.5 kB ? eta -:--:--\n",
      "   ---------------------------------------- 72.5/72.5 kB ? eta 0:00:00\n",
      "Building wheels for collected packages: textatistic\n",
      "  Building wheel for textatistic (setup.py): started\n",
      "  Building wheel for textatistic (setup.py): finished with status 'done'\n",
      "  Created wheel for textatistic: filename=textatistic-0.0.1-py3-none-any.whl size=29058 sha256=4e50adccb6dd47b128bd26a3d4f7e5b44c28ff0b11a2679a692caa7aceeeb96b\n",
      "  Stored in directory: c:\\users\\payel\\appdata\\local\\pip\\cache\\wheels\\ec\\03\\0a\\d09aa1c311450d9618131b77a6ea42990542380098022b77ba\n",
      "Successfully built textatistic\n",
      "Installing collected packages: wheel, pyhyphen, textatistic\n",
      "  Attempting uninstall: wheel\n",
      "    Found existing installation: wheel 0.38.4\n",
      "    Uninstalling wheel-0.38.4:\n",
      "      Successfully uninstalled wheel-0.38.4\n",
      "Successfully installed pyhyphen-4.0.4 textatistic-0.0.1 wheel-0.45.1\n"
     ]
    }
   ],
   "source": [
    "!pip install textatistic"
   ]
  },
  {
   "cell_type": "code",
   "execution_count": 6,
   "id": "656594c0",
   "metadata": {},
   "outputs": [
    {
     "name": "stdout",
     "output_type": "stream",
     "text": [
      "{'char_count': 429, 'word_count': 83, 'sent_count': 9, 'sybl_count': 123, 'notdalechall_count': 23, 'polysyblword_count': 8, 'flesch_score': 72.10336010709507, 'fleschkincaid_score': 5.493413654618475, 'gunningfog_score': 7.544310575635876, 'smog_score': 8.515128840125781, 'dalechall_score': 8.46946439089692}\n"
     ]
    }
   ],
   "source": [
    "from pathlib import Path\n",
    "text=Path(r'C:\\Users\\PAYEL\\Desktop\\qwerty.txt').read_text('utf-8')\n",
    "from textatistic import Textatistic\n",
    "readibility=Textatistic(text)\n",
    "print(readibility.dict())"
   ]
  },
  {
   "cell_type": "markdown",
   "id": "b7d2c495",
   "metadata": {},
   "source": [
    "spaCy\n",
    "\n",
    "NLP can determine what a text is about.\n",
    "\n",
    "A key aspect of this is named entity recognition, which attempts to locate and categorize items like dates, times, quantities, places, people, things, organizations and more. In this section, we’ll use the named entity recognition capabilities in the spaCy NLP library to analyze text. First, we install spacy module."
   ]
  },
  {
   "cell_type": "code",
   "execution_count": 7,
   "id": "8718ff46",
   "metadata": {},
   "outputs": [
    {
     "name": "stdout",
     "output_type": "stream",
     "text": [
      "Collecting spacy\n",
      "  Obtaining dependency information for spacy from https://files.pythonhosted.org/packages/ca/45/7b43e89b30fe73e32fd8b8ab80c407d326761530a88abd823ec8623772a6/spacy-3.8.4-cp311-cp311-win_amd64.whl.metadata\n",
      "  Downloading spacy-3.8.4-cp311-cp311-win_amd64.whl.metadata (27 kB)\n",
      "Collecting spacy-legacy<3.1.0,>=3.0.11 (from spacy)\n",
      "  Obtaining dependency information for spacy-legacy<3.1.0,>=3.0.11 from https://files.pythonhosted.org/packages/c3/55/12e842c70ff8828e34e543a2c7176dac4da006ca6901c9e8b43efab8bc6b/spacy_legacy-3.0.12-py2.py3-none-any.whl.metadata\n",
      "  Downloading spacy_legacy-3.0.12-py2.py3-none-any.whl.metadata (2.8 kB)\n",
      "Collecting spacy-loggers<2.0.0,>=1.0.0 (from spacy)\n",
      "  Obtaining dependency information for spacy-loggers<2.0.0,>=1.0.0 from https://files.pythonhosted.org/packages/33/78/d1a1a026ef3af911159398c939b1509d5c36fe524c7b644f34a5146c4e16/spacy_loggers-1.0.5-py3-none-any.whl.metadata\n",
      "  Downloading spacy_loggers-1.0.5-py3-none-any.whl.metadata (23 kB)\n",
      "Collecting murmurhash<1.1.0,>=0.28.0 (from spacy)\n",
      "  Obtaining dependency information for murmurhash<1.1.0,>=0.28.0 from https://files.pythonhosted.org/packages/de/30/ceb9217cdba72bc0bf8466e373e12e5a42945cc85eda0a7c479e319e07ae/murmurhash-1.0.12-cp311-cp311-win_amd64.whl.metadata\n",
      "  Downloading murmurhash-1.0.12-cp311-cp311-win_amd64.whl.metadata (2.2 kB)\n",
      "Collecting cymem<2.1.0,>=2.0.2 (from spacy)\n",
      "  Obtaining dependency information for cymem<2.1.0,>=2.0.2 from https://files.pythonhosted.org/packages/56/c8/75f75889401b20f4c3a7c5965dda09df42913e904ddc2ffe7ef3bdf25061/cymem-2.0.11-cp311-cp311-win_amd64.whl.metadata\n",
      "  Downloading cymem-2.0.11-cp311-cp311-win_amd64.whl.metadata (8.8 kB)\n",
      "Collecting preshed<3.1.0,>=3.0.2 (from spacy)\n",
      "  Obtaining dependency information for preshed<3.1.0,>=3.0.2 from https://files.pythonhosted.org/packages/e4/fc/78cdbdb79f5d6d45949e72c32445d6c060977ad50a1dcfc0392622165f7c/preshed-3.0.9-cp311-cp311-win_amd64.whl.metadata\n",
      "  Downloading preshed-3.0.9-cp311-cp311-win_amd64.whl.metadata (2.2 kB)\n",
      "Collecting thinc<8.4.0,>=8.3.4 (from spacy)\n",
      "  Obtaining dependency information for thinc<8.4.0,>=8.3.4 from https://files.pythonhosted.org/packages/d9/98/f910b8d8113ab9b955a68e9bbf0d5bd0e828f22dd6d3c226af6ec3970817/thinc-8.3.4-cp311-cp311-win_amd64.whl.metadata\n",
      "  Downloading thinc-8.3.4-cp311-cp311-win_amd64.whl.metadata (15 kB)\n",
      "Collecting wasabi<1.2.0,>=0.9.1 (from spacy)\n",
      "  Obtaining dependency information for wasabi<1.2.0,>=0.9.1 from https://files.pythonhosted.org/packages/06/7c/34330a89da55610daa5f245ddce5aab81244321101614751e7537f125133/wasabi-1.1.3-py3-none-any.whl.metadata\n",
      "  Downloading wasabi-1.1.3-py3-none-any.whl.metadata (28 kB)\n",
      "Collecting srsly<3.0.0,>=2.4.3 (from spacy)\n",
      "  Obtaining dependency information for srsly<3.0.0,>=2.4.3 from https://files.pythonhosted.org/packages/bb/da/657a685f63028dcb00ccdc4ac125ed347c8bff6fa0dab6a9eb3dc45f3223/srsly-2.5.1-cp311-cp311-win_amd64.whl.metadata\n",
      "  Downloading srsly-2.5.1-cp311-cp311-win_amd64.whl.metadata (20 kB)\n",
      "Collecting catalogue<2.1.0,>=2.0.6 (from spacy)\n",
      "  Obtaining dependency information for catalogue<2.1.0,>=2.0.6 from https://files.pythonhosted.org/packages/9e/96/d32b941a501ab566a16358d68b6eb4e4acc373fab3c3c4d7d9e649f7b4bb/catalogue-2.0.10-py3-none-any.whl.metadata\n",
      "  Downloading catalogue-2.0.10-py3-none-any.whl.metadata (14 kB)\n",
      "Collecting weasel<0.5.0,>=0.1.0 (from spacy)\n",
      "  Obtaining dependency information for weasel<0.5.0,>=0.1.0 from https://files.pythonhosted.org/packages/2a/87/abd57374044e1f627f0a905ac33c1a7daab35a3a815abfea4e1bafd3fdb1/weasel-0.4.1-py3-none-any.whl.metadata\n",
      "  Downloading weasel-0.4.1-py3-none-any.whl.metadata (4.6 kB)\n",
      "Collecting typer<1.0.0,>=0.3.0 (from spacy)\n",
      "  Obtaining dependency information for typer<1.0.0,>=0.3.0 from https://files.pythonhosted.org/packages/7f/fc/5b29fea8cee020515ca82cc68e3b8e1e34bb19a3535ad854cac9257b414c/typer-0.15.2-py3-none-any.whl.metadata\n",
      "  Downloading typer-0.15.2-py3-none-any.whl.metadata (15 kB)\n",
      "Requirement already satisfied: tqdm<5.0.0,>=4.38.0 in c:\\users\\payel\\anaconda3\\lib\\site-packages (from spacy) (4.65.0)\n",
      "Requirement already satisfied: numpy>=1.19.0 in c:\\users\\payel\\anaconda3\\lib\\site-packages (from spacy) (1.24.3)\n",
      "Requirement already satisfied: requests<3.0.0,>=2.13.0 in c:\\users\\payel\\anaconda3\\lib\\site-packages (from spacy) (2.31.0)\n",
      "Requirement already satisfied: pydantic!=1.8,!=1.8.1,<3.0.0,>=1.7.4 in c:\\users\\payel\\anaconda3\\lib\\site-packages (from spacy) (1.10.8)\n",
      "Requirement already satisfied: jinja2 in c:\\users\\payel\\anaconda3\\lib\\site-packages (from spacy) (3.1.2)\n",
      "Requirement already satisfied: setuptools in c:\\users\\payel\\anaconda3\\lib\\site-packages (from spacy) (68.0.0)\n",
      "Requirement already satisfied: packaging>=20.0 in c:\\users\\payel\\anaconda3\\lib\\site-packages (from spacy) (23.1)\n",
      "Collecting langcodes<4.0.0,>=3.2.0 (from spacy)\n",
      "  Obtaining dependency information for langcodes<4.0.0,>=3.2.0 from https://files.pythonhosted.org/packages/c3/6b/068c2ea7a712bf805c62445bd9e9c06d7340358ef2824150eceac027444b/langcodes-3.5.0-py3-none-any.whl.metadata\n",
      "  Downloading langcodes-3.5.0-py3-none-any.whl.metadata (29 kB)\n",
      "Collecting language-data>=1.2 (from langcodes<4.0.0,>=3.2.0->spacy)\n",
      "  Obtaining dependency information for language-data>=1.2 from https://files.pythonhosted.org/packages/5d/e9/5a5ffd9b286db82be70d677d0a91e4d58f7912bb8dd026ddeeb4abe70679/language_data-1.3.0-py3-none-any.whl.metadata\n",
      "  Downloading language_data-1.3.0-py3-none-any.whl.metadata (4.3 kB)\n",
      "Requirement already satisfied: typing-extensions>=4.2.0 in c:\\users\\payel\\anaconda3\\lib\\site-packages (from pydantic!=1.8,!=1.8.1,<3.0.0,>=1.7.4->spacy) (4.12.2)\n",
      "Requirement already satisfied: charset-normalizer<4,>=2 in c:\\users\\payel\\anaconda3\\lib\\site-packages (from requests<3.0.0,>=2.13.0->spacy) (2.0.4)\n",
      "Requirement already satisfied: idna<4,>=2.5 in c:\\users\\payel\\anaconda3\\lib\\site-packages (from requests<3.0.0,>=2.13.0->spacy) (2.10)\n",
      "Requirement already satisfied: urllib3<3,>=1.21.1 in c:\\users\\payel\\anaconda3\\lib\\site-packages (from requests<3.0.0,>=2.13.0->spacy) (1.26.16)\n",
      "Requirement already satisfied: certifi>=2017.4.17 in c:\\users\\payel\\anaconda3\\lib\\site-packages (from requests<3.0.0,>=2.13.0->spacy) (2023.11.17)\n",
      "Collecting blis<1.3.0,>=1.2.0 (from thinc<8.4.0,>=8.3.4->spacy)\n",
      "  Obtaining dependency information for blis<1.3.0,>=1.2.0 from https://files.pythonhosted.org/packages/c4/d9/b647ef53c33c82c1fa2ed217c5793de551a38fb1e5b2430f59c3ecba4c86/blis-1.2.0-cp311-cp311-win_amd64.whl.metadata\n",
      "  Downloading blis-1.2.0-cp311-cp311-win_amd64.whl.metadata (7.9 kB)\n",
      "Collecting confection<1.0.0,>=0.0.1 (from thinc<8.4.0,>=8.3.4->spacy)\n",
      "  Obtaining dependency information for confection<1.0.0,>=0.0.1 from https://files.pythonhosted.org/packages/0c/00/3106b1854b45bd0474ced037dfe6b73b90fe68a68968cef47c23de3d43d2/confection-0.1.5-py3-none-any.whl.metadata\n",
      "  Downloading confection-0.1.5-py3-none-any.whl.metadata (19 kB)\n",
      "Requirement already satisfied: colorama in c:\\users\\payel\\anaconda3\\lib\\site-packages (from tqdm<5.0.0,>=4.38.0->spacy) (0.4.6)\n",
      "Requirement already satisfied: click>=8.0.0 in c:\\users\\payel\\anaconda3\\lib\\site-packages (from typer<1.0.0,>=0.3.0->spacy) (8.0.4)\n",
      "Collecting shellingham>=1.3.0 (from typer<1.0.0,>=0.3.0->spacy)\n",
      "  Obtaining dependency information for shellingham>=1.3.0 from https://files.pythonhosted.org/packages/e0/f9/0595336914c5619e5f28a1fb793285925a8cd4b432c9da0a987836c7f822/shellingham-1.5.4-py2.py3-none-any.whl.metadata\n",
      "  Downloading shellingham-1.5.4-py2.py3-none-any.whl.metadata (3.5 kB)\n",
      "Collecting rich>=10.11.0 (from typer<1.0.0,>=0.3.0->spacy)\n",
      "  Obtaining dependency information for rich>=10.11.0 from https://files.pythonhosted.org/packages/19/71/39c7c0d87f8d4e6c020a393182060eaefeeae6c01dab6a84ec346f2567df/rich-13.9.4-py3-none-any.whl.metadata\n",
      "  Downloading rich-13.9.4-py3-none-any.whl.metadata (18 kB)\n",
      "Collecting cloudpathlib<1.0.0,>=0.7.0 (from weasel<0.5.0,>=0.1.0->spacy)\n",
      "  Obtaining dependency information for cloudpathlib<1.0.0,>=0.7.0 from https://files.pythonhosted.org/packages/e8/0f/b1a9b09a84ef98b9fc38d50c6b2815cb2256b804a78e7d838ddfbdc035c7/cloudpathlib-0.21.0-py3-none-any.whl.metadata\n",
      "  Downloading cloudpathlib-0.21.0-py3-none-any.whl.metadata (14 kB)\n",
      "Requirement already satisfied: smart-open<8.0.0,>=5.2.1 in c:\\users\\payel\\anaconda3\\lib\\site-packages (from weasel<0.5.0,>=0.1.0->spacy) (5.2.1)\n",
      "Requirement already satisfied: MarkupSafe>=2.0 in c:\\users\\payel\\anaconda3\\lib\\site-packages (from jinja2->spacy) (2.1.1)\n",
      "Collecting marisa-trie>=1.1.0 (from language-data>=1.2->langcodes<4.0.0,>=3.2.0->spacy)\n",
      "  Obtaining dependency information for marisa-trie>=1.1.0 from https://files.pythonhosted.org/packages/fc/98/574b4e143e0a2f5f71af8716b6c4a8a46220f75a6e0847ce7d11ee0ba4aa/marisa_trie-1.2.1-cp311-cp311-win_amd64.whl.metadata\n",
      "  Downloading marisa_trie-1.2.1-cp311-cp311-win_amd64.whl.metadata (9.3 kB)\n",
      "Requirement already satisfied: markdown-it-py>=2.2.0 in c:\\users\\payel\\anaconda3\\lib\\site-packages (from rich>=10.11.0->typer<1.0.0,>=0.3.0->spacy) (2.2.0)\n",
      "Requirement already satisfied: pygments<3.0.0,>=2.13.0 in c:\\users\\payel\\anaconda3\\lib\\site-packages (from rich>=10.11.0->typer<1.0.0,>=0.3.0->spacy) (2.15.1)\n",
      "Requirement already satisfied: mdurl~=0.1 in c:\\users\\payel\\anaconda3\\lib\\site-packages (from markdown-it-py>=2.2.0->rich>=10.11.0->typer<1.0.0,>=0.3.0->spacy) (0.1.0)\n",
      "Downloading spacy-3.8.4-cp311-cp311-win_amd64.whl (12.2 MB)\n",
      "   ---------------------------------------- 0.0/12.2 MB ? eta -:--:--\n",
      "   -- ------------------------------------- 0.7/12.2 MB 21.8 MB/s eta 0:00:01\n",
      "   ------- -------------------------------- 2.4/12.2 MB 30.1 MB/s eta 0:00:01\n",
      "   ------------- -------------------------- 4.3/12.2 MB 34.0 MB/s eta 0:00:01\n",
      "   ----------------------------------- ---- 10.9/12.2 MB 73.1 MB/s eta 0:00:01\n",
      "   ----------------------------------- ---- 11.0/12.2 MB 81.8 MB/s eta 0:00:01\n",
      "   ------------------------------------ --- 11.0/12.2 MB 50.1 MB/s eta 0:00:01\n",
      "   ------------------------------------ --- 11.2/12.2 MB 40.9 MB/s eta 0:00:01\n",
      "   -------------------------------------- - 11.6/12.2 MB 36.4 MB/s eta 0:00:01\n",
      "   ---------------------------------------  12.2/12.2 MB 32.8 MB/s eta 0:00:01\n",
      "   ---------------------------------------- 12.2/12.2 MB 28.5 MB/s eta 0:00:00\n",
      "Downloading catalogue-2.0.10-py3-none-any.whl (17 kB)\n",
      "Downloading cymem-2.0.11-cp311-cp311-win_amd64.whl (39 kB)\n",
      "Downloading langcodes-3.5.0-py3-none-any.whl (182 kB)\n",
      "   ---------------------------------------- 0.0/183.0 kB ? eta -:--:--\n",
      "   ---------------------------------------- 183.0/183.0 kB ? eta 0:00:00\n",
      "Downloading murmurhash-1.0.12-cp311-cp311-win_amd64.whl (25 kB)\n",
      "Downloading preshed-3.0.9-cp311-cp311-win_amd64.whl (122 kB)\n",
      "   ---------------------------------------- 0.0/122.3 kB ? eta -:--:--\n",
      "   ---------------------------------------- 122.3/122.3 kB ? eta 0:00:00\n",
      "Downloading spacy_legacy-3.0.12-py2.py3-none-any.whl (29 kB)\n",
      "Downloading spacy_loggers-1.0.5-py3-none-any.whl (22 kB)\n",
      "Downloading srsly-2.5.1-cp311-cp311-win_amd64.whl (632 kB)\n",
      "   ---------------------------------------- 0.0/632.6 kB ? eta -:--:--\n",
      "   ---------------------------------------- 632.6/632.6 kB ? eta 0:00:00\n",
      "Downloading thinc-8.3.4-cp311-cp311-win_amd64.whl (1.5 MB)\n",
      "   ---------------------------------------- 0.0/1.5 MB ? eta -:--:--\n",
      "   ---------------------------------------- 1.5/1.5 MB 92.5 MB/s eta 0:00:00\n",
      "Downloading typer-0.15.2-py3-none-any.whl (45 kB)\n",
      "   ---------------------------------------- 0.0/45.1 kB ? eta -:--:--\n",
      "   ---------------------------------------- 45.1/45.1 kB ? eta 0:00:00\n",
      "Downloading wasabi-1.1.3-py3-none-any.whl (27 kB)\n",
      "Downloading weasel-0.4.1-py3-none-any.whl (50 kB)\n",
      "   ---------------------------------------- 0.0/50.3 kB ? eta -:--:--\n",
      "   ---------------------------------------- 50.3/50.3 kB ? eta 0:00:00\n",
      "Downloading blis-1.2.0-cp311-cp311-win_amd64.whl (6.2 MB)\n",
      "   ---------------------------------------- 0.0/6.2 MB ? eta -:--:--\n",
      "   ----------------- ---------------------- 2.7/6.2 MB 84.5 MB/s eta 0:00:01\n",
      "   ---------------------- ----------------- 3.6/6.2 MB 45.1 MB/s eta 0:00:01\n",
      "   ---------------------------- ----------- 4.4/6.2 MB 35.2 MB/s eta 0:00:01\n",
      "   ---------------------------------------- 6.2/6.2 MB 36.2 MB/s eta 0:00:00\n",
      "Downloading cloudpathlib-0.21.0-py3-none-any.whl (52 kB)\n",
      "   ---------------------------------------- 0.0/52.7 kB ? eta -:--:--\n",
      "   ---------------------------------------- 52.7/52.7 kB ? eta 0:00:00\n",
      "Downloading confection-0.1.5-py3-none-any.whl (35 kB)\n",
      "Downloading language_data-1.3.0-py3-none-any.whl (5.4 MB)\n",
      "   ---------------------------------------- 0.0/5.4 MB ? eta -:--:--\n",
      "   ------------------------------ --------- 4.1/5.4 MB 88.0 MB/s eta 0:00:01\n",
      "   ------------------------------------- -- 5.0/5.4 MB 63.6 MB/s eta 0:00:01\n",
      "   -------------------------------------- - 5.2/5.4 MB 41.5 MB/s eta 0:00:01\n",
      "   ---------------------------------------  5.4/5.4 MB 31.2 MB/s eta 0:00:01\n",
      "   ---------------------------------------- 5.4/5.4 MB 28.6 MB/s eta 0:00:00\n",
      "Downloading rich-13.9.4-py3-none-any.whl (242 kB)\n",
      "   ---------------------------------------- 0.0/242.4 kB ? eta -:--:--\n",
      "   --------------------------------------- 242.4/242.4 kB 15.5 MB/s eta 0:00:00\n",
      "Downloading shellingham-1.5.4-py2.py3-none-any.whl (9.8 kB)\n",
      "Downloading marisa_trie-1.2.1-cp311-cp311-win_amd64.whl (152 kB)\n",
      "   ---------------------------------------- 0.0/152.0 kB ? eta -:--:--\n",
      "   ---------------------------------------- 152.0/152.0 kB ? eta 0:00:00\n",
      "Installing collected packages: cymem, wasabi, spacy-loggers, spacy-legacy, shellingham, murmurhash, marisa-trie, cloudpathlib, catalogue, blis, srsly, rich, preshed, language-data, typer, langcodes, confection, weasel, thinc, spacy\n",
      "Successfully installed blis-1.2.0 catalogue-2.0.10 cloudpathlib-0.21.0 confection-0.1.5 cymem-2.0.11 langcodes-3.5.0 language-data-1.3.0 marisa-trie-1.2.1 murmurhash-1.0.12 preshed-3.0.9 rich-13.9.4 shellingham-1.5.4 spacy-3.8.4 spacy-legacy-3.0.12 spacy-loggers-1.0.5 srsly-2.5.1 thinc-8.3.4 typer-0.15.2 wasabi-1.1.3 weasel-0.4.1\n",
      "Collecting en-core-web-sm==3.8.0\n",
      "  Downloading https://github.com/explosion/spacy-models/releases/download/en_core_web_sm-3.8.0/en_core_web_sm-3.8.0-py3-none-any.whl (12.8 MB)\n",
      "     ---------------------------------------- 0.0/12.8 MB ? eta -:--:--\n",
      "     ---------------------------------------- 0.0/12.8 MB ? eta -:--:--\n",
      "     --------------------------------------- 0.0/12.8 MB 487.6 kB/s eta 0:00:27\n",
      "      --------------------------------------- 0.3/12.8 MB 2.7 MB/s eta 0:00:05\n",
      "     - -------------------------------------- 0.6/12.8 MB 4.3 MB/s eta 0:00:03\n",
      "     --- ------------------------------------ 1.0/12.8 MB 6.0 MB/s eta 0:00:02\n",
      "     ---- ----------------------------------- 1.6/12.8 MB 7.2 MB/s eta 0:00:02\n",
      "     ------- -------------------------------- 2.3/12.8 MB 8.5 MB/s eta 0:00:02\n",
      "     ---------- ----------------------------- 3.3/12.8 MB 10.5 MB/s eta 0:00:01\n",
      "     ------------- -------------------------- 4.4/12.8 MB 12.8 MB/s eta 0:00:01\n",
      "     ----------------- ---------------------- 5.8/12.8 MB 14.7 MB/s eta 0:00:01\n",
      "     ----------------------- ---------------- 7.4/12.8 MB 16.8 MB/s eta 0:00:01\n",
      "     ----------------------------- ---------- 9.4/12.8 MB 20.1 MB/s eta 0:00:01\n",
      "     ------------------------------------ -- 11.9/12.8 MB 36.4 MB/s eta 0:00:01\n",
      "     --------------------------------------  12.8/12.8 MB 40.9 MB/s eta 0:00:01\n",
      "     --------------------------------------- 12.8/12.8 MB 34.5 MB/s eta 0:00:00\n",
      "Installing collected packages: en-core-web-sm\n",
      "Successfully installed en-core-web-sm-3.8.0\n",
      "\u001b[38;5;2m[+] Download and installation successful\u001b[0m\n",
      "You can now load the package via spacy.load('en_core_web_sm')\n"
     ]
    }
   ],
   "source": [
    "!pip install spacy\n",
    "!python -m spacy download en_core_web_sm"
   ]
  },
  {
   "cell_type": "code",
   "execution_count": 8,
   "id": "311bf759",
   "metadata": {},
   "outputs": [
    {
     "name": "stdout",
     "output_type": "stream",
     "text": [
      "1994: DATE\n",
      "Tim Berners-Lee: PERSON\n"
     ]
    }
   ],
   "source": [
    "import spacy\n",
    "nlp=spacy.load('en_core_web_sm')\n",
    "document=nlp('In 1994, Tim Berners-Lee founded the.'+\n",
    "             'World Wide Web Consortium (W3C), devoted to ' +\n",
    "             'developing web technologies')\n",
    "for entity in document.ents:\n",
    "    print(f'{entity.text}: {entity.label_}')"
   ]
  },
  {
   "cell_type": "code",
   "execution_count": 10,
   "id": "5497a242",
   "metadata": {},
   "outputs": [
    {
     "name": "stdout",
     "output_type": "stream",
     "text": [
      "1.0\n"
     ]
    }
   ],
   "source": [
    "import spacy\n",
    "nlp=spacy.load('en_core_web_sm')\n",
    "from pathlib import Path\n",
    "doc1=nlp(Path(r'C:\\Users\\PAYEL\\Desktop\\qwerty.txt').read_text('utf-8'))\n",
    "doc2=nlp(Path(r'C:\\Users\\PAYEL\\Desktop\\qwerty.txt').read_text('utf-8'))\n",
    "print(doc1.similarity(doc2))"
   ]
  },
  {
   "cell_type": "code",
   "execution_count": null,
   "id": "ab27fc8f",
   "metadata": {},
   "outputs": [],
   "source": []
  }
 ],
 "metadata": {
  "kernelspec": {
   "display_name": "Python 3 (ipykernel)",
   "language": "python",
   "name": "python3"
  },
  "language_info": {
   "codemirror_mode": {
    "name": "ipython",
    "version": 3
   },
   "file_extension": ".py",
   "mimetype": "text/x-python",
   "name": "python",
   "nbconvert_exporter": "python",
   "pygments_lexer": "ipython3",
   "version": "3.11.5"
  }
 },
 "nbformat": 4,
 "nbformat_minor": 5
}
